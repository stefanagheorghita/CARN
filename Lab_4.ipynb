{
  "nbformat": 4,
  "nbformat_minor": 0,
  "metadata": {
    "colab": {
      "provenance": [],
      "authorship_tag": "ABX9TyPF270TVA+zp2w3hgjes+Ln",
      "include_colab_link": true
    },
    "kernelspec": {
      "name": "python3",
      "display_name": "Python 3"
    },
    "language_info": {
      "name": "python"
    }
  },
  "cells": [
    {
      "cell_type": "markdown",
      "metadata": {
        "id": "view-in-github",
        "colab_type": "text"
      },
      "source": [
        "<a href=\"https://colab.research.google.com/github/stefanagheorghita/CARN/blob/main/Lab_4.ipynb\" target=\"_parent\"><img src=\"https://colab.research.google.com/assets/colab-badge.svg\" alt=\"Open In Colab\"/></a>"
      ]
    },
    {
      "cell_type": "code",
      "execution_count": 2,
      "metadata": {
        "colab": {
          "base_uri": "https://localhost:8080/"
        },
        "id": "gDH9O25QyAQF",
        "outputId": "f0dc2c55-ca55-407b-d179-35fa77fd79d4"
      },
      "outputs": [
        {
          "output_type": "stream",
          "name": "stdout",
          "text": [
            "Cloning into 'Advanced-Topics-in-Neural-Networks-Template-2024'...\n",
            "remote: Enumerating objects: 1705, done.\u001b[K\n",
            "remote: Counting objects: 100% (155/155), done.\u001b[K\n",
            "remote: Compressing objects: 100% (89/89), done.\u001b[K\n",
            "remote: Total 1705 (delta 71), reused 143 (delta 60), pack-reused 1550 (from 1)\u001b[K\n",
            "Receiving objects: 100% (1705/1705), 106.95 MiB | 26.83 MiB/s, done.\n",
            "Resolving deltas: 100% (73/73), done.\n",
            "Updating files: 100% (1440/1440), done.\n"
          ]
        }
      ],
      "source": [
        "!git clone https://github.com/Tensor-Reloaded/Advanced-Topics-in-Neural-Networks-Template-2024.git\n"
      ]
    },
    {
      "cell_type": "code",
      "source": [
        "%cd Advanced-Topics-in-Neural-Networks-Template-2024/Lab04\n",
        "\n"
      ],
      "metadata": {
        "colab": {
          "base_uri": "https://localhost:8080/"
        },
        "id": "pkJBy6UNyZgl",
        "outputId": "789d3d0a-a816-46d9-d0e2-df1b12e2d2ea"
      },
      "execution_count": 4,
      "outputs": [
        {
          "output_type": "stream",
          "name": "stdout",
          "text": [
            "/content/Advanced-Topics-in-Neural-Networks-Template-2024/Lab04\n"
          ]
        }
      ]
    },
    {
      "cell_type": "code",
      "source": [
        "import os\n",
        "import cv2\n",
        "\n",
        "input_folder = 'Dataset'\n",
        "output_folder = 'ConvertedDataset'\n",
        "\n",
        "if not os.path.exists(output_folder):\n",
        "    os.makedirs(output_folder)\n",
        "\n",
        "for location in os.listdir(input_folder):\n",
        "    location_path = os.path.join(input_folder, location, \"images\")\n",
        "    output_loc = os.path.join(output_folder, location, \"images\")\n",
        "\n",
        "    if not os.path.exists(output_loc):\n",
        "        os.makedirs(output_loc)\n",
        "\n",
        "    for file in os.listdir(location_path):\n",
        "        if file.endswith(\".tif\"):\n",
        "            img_path = os.path.join(location_path, file)\n",
        "            img = cv2.imread(img_path, -1)\n",
        "            if img is not None:\n",
        "                output_path = os.path.join(output_loc, file.replace(\".tif\", \".png\"))\n",
        "                cv2.imwrite(output_path, img)\n"
      ],
      "metadata": {
        "id": "WiofiX_jytfb"
      },
      "execution_count": 5,
      "outputs": []
    },
    {
      "cell_type": "code",
      "source": [
        "import matplotlib.pyplot as plt\n",
        "from torch import nn\n",
        "from torch.utils.data import Dataset, DataLoader, random_split\n",
        "import segmentation_models_pytorch as smp\n",
        "from torchvision.transforms import v2\n",
        "\n",
        "import os\n",
        "import re\n",
        "import torch\n",
        "from torch.utils.data import Dataset\n",
        "import torchvision.transforms.functional as TF\n",
        "import torchvision.io as io\n",
        "import random\n",
        "from datetime import datetime\n",
        "from tqdm import tqdm\n",
        "\n",
        "device = \"cuda\" if torch.cuda.is_available() else \"cpu\"\n",
        "\n",
        "\n",
        "def calculate_time_skip(start_name, end_name):\n",
        "    date_pattern = r\"global_monthly_(\\d{4})_(\\d{2})\"\n",
        "\n",
        "    start_date_match = re.search(date_pattern, start_name)\n",
        "    end_date_match = re.search(date_pattern, end_name)\n",
        "\n",
        "    if start_date_match and end_date_match:\n",
        "        start_year, start_month = int(start_date_match.group(1)), int(start_date_match.group(2))\n",
        "        end_year, end_month = int(end_date_match.group(1)), int(end_date_match.group(2))\n",
        "\n",
        "        start_date = datetime(start_year, start_month, 1)\n",
        "        end_date = datetime(end_year, end_month, 1)\n",
        "        time_skip = abs((end_date.year - start_date.year) * 12 + (end_date.month - start_date.month))\n",
        "        return time_skip\n",
        "    else:\n",
        "        raise ValueError(\"Invalid filename format for date extraction.\")\n",
        "\n",
        "\n",
        "def train(model, loader, optimizer, loss_fn):\n",
        "    model.train()\n",
        "    running_loss = 0.0\n",
        "    for start_image, end_image, _ in tqdm(loader, desc=\"Training\"):\n",
        "        start_image, end_image = start_image.to(device), end_image.to(device)\n",
        "        optimizer.zero_grad()\n",
        "        output = model(start_image)\n",
        "        loss = loss_fn(output, end_image)\n",
        "        loss.backward()\n",
        "        optimizer.step()\n",
        "        running_loss += loss.item()\n",
        "    return running_loss / len(loader)\n",
        "\n",
        "\n",
        "def validate(model, loader, loss_func):\n",
        "    model.eval()\n",
        "    running_loss = 0.0\n",
        "    with torch.no_grad():\n",
        "        for start_image, end_image, _ in tqdm(loader, desc=\"Validation\"):\n",
        "            start_image, end_image = start_image.to(device), end_image.to(device)\n",
        "            output = model(start_image)\n",
        "            loss = loss_func(output, end_image)\n",
        "            running_loss += loss.item()\n",
        "    return running_loss / len(loader)\n",
        "\n",
        "\n",
        "def run(model, train_loader, val_loader, optimizer, loss_func, epochs):\n",
        "    train_losses, val_losses = [], []\n",
        "    for epoch in range(epochs):\n",
        "        print(f\"Epoch {epoch + 1}/{epochs}\")\n",
        "        train_loss = train(model, train_loader, optimizer, loss_func)\n",
        "        val_loss = validate(model, val_loader, loss_func)\n",
        "        train_losses.append(train_loss)\n",
        "        val_losses.append(val_loss)\n",
        "        print(f\"Train Loss: {train_loss:.4f}, Val Loss: {val_loss:.4f}\")\n",
        "    return train_losses, val_losses\n",
        "\n",
        "\n",
        "class HomeworkDataset(Dataset):\n",
        "    def __init__(self, root_dir, transform=None):\n",
        "        self.root_dir = root_dir\n",
        "        self.transform = transform\n",
        "        self.pairs = []\n",
        "        self.cache = {}\n",
        "\n",
        "        for location in os.listdir(root_dir):\n",
        "            location_path = os.path.join(root_dir, location, \"images\")\n",
        "            if os.path.isdir(location_path):\n",
        "                images = sorted(os.listdir(location_path))\n",
        "\n",
        "                for i in range(len(images) - 1):\n",
        "                    start_image_path = os.path.join(location_path, images[i])\n",
        "                    end_image_path = os.path.join(location_path, images[i + 1])\n",
        "                    time_skip = calculate_time_skip(images[i], images[i + 1])\n",
        "                    self.pairs.append((start_image_path, end_image_path, time_skip))\n",
        "\n",
        "    def __len__(self):\n",
        "        return len(self.pairs)\n",
        "\n",
        "    def _load_image(self, image_path):\n",
        "        if image_path in self.cache:\n",
        "            return self.cache[image_path]\n",
        "        image = io.read_image(image_path).float() / 255.0\n",
        "        self.cache[image_path] = image\n",
        "        return image\n",
        "\n",
        "    def __getitem__(self, idx):\n",
        "        start_image_path, end_image_path, time_skip = self.pairs[idx]\n",
        "\n",
        "        start_image = self._load_image(start_image_path)\n",
        "        end_image = self._load_image(end_image_path)\n",
        "\n",
        "        if self.transform:\n",
        "            rotation_angle = random.randint(0, 360)\n",
        "            start_image = TF.rotate(start_image, rotation_angle)\n",
        "            end_image = TF.rotate(end_image, rotation_angle)\n",
        "            start_image = self.transform(start_image)\n",
        "            end_image = self.transform(end_image)\n",
        "\n",
        "        return start_image, end_image, time_skip\n",
        "\n",
        "def test(model, loader, loss_fn):\n",
        "    model.eval()\n",
        "    running_loss = 0.0\n",
        "    with torch.no_grad():\n",
        "        for start_image, end_image, _ in tqdm(loader, desc=\"Testing\"):\n",
        "            start_image, end_image = start_image.to(device), end_image.to(device)\n",
        "            output = model(start_image)\n",
        "            loss = loss_fn(output, end_image)\n",
        "            running_loss += loss.item()\n",
        "    return running_loss / len(loader)\n",
        "\n",
        "\n",
        "\n",
        "def show(epochs, train_loss, val_loss, path):\n",
        "    plt.plot(range(epochs), train_loss, label=\"Train Loss\")\n",
        "    plt.plot(range(epochs), val_loss, label=\"Validation Loss\")\n",
        "    plt.xlabel(\"Epoch\")\n",
        "    plt.ylabel(\"Loss\")\n",
        "    plt.legend()\n",
        "    plt.savefig(path)\n",
        "    plt.show()\n",
        "\n",
        "\n",
        "if __name__ == \"__main__\":\n",
        "    dataset_path = 'ConvertedDataset'\n",
        "    transform = v2.Compose([\n",
        "        v2.RandomResizedCrop(size=(32, 32), scale=(0.8, 1.0)),\n",
        "        v2.RandomHorizontalFlip(),\n",
        "        v2.ColorJitter(brightness=0.2, contrast=0.2, saturation=0.2, hue=0.1),\n",
        "        v2.RandomAffine(degrees=0, translate=(0.1, 0.1)),\n",
        "        v2.Normalize((0.5, 0.5, 0.5), (0.5, 0.5, 0.5))\n",
        "    ])\n",
        "\n",
        "    n_epochs = 10\n",
        "    full_dataset = HomeworkDataset(root_dir=dataset_path, transform=transform)\n",
        "\n",
        "    train_size = int(0.7 * len(full_dataset))\n",
        "    val_size = int(0.15 * len(full_dataset))\n",
        "    test_size = len(full_dataset) - train_size - val_size\n",
        "\n",
        "    train_dataset, val_dataset, test_dataset = random_split(full_dataset, [train_size, val_size, test_size])\n",
        "\n",
        "    train_loader = DataLoader(train_dataset, batch_size=32, shuffle=True)\n",
        "    val_loader = DataLoader(val_dataset, batch_size=32, shuffle=False)\n",
        "    test_loader = DataLoader(test_dataset, batch_size=32, shuffle=False)\n",
        "\n",
        "    model = smp.Unet(\n",
        "        encoder_name=\"resnet34\",\n",
        "        encoder_weights=\"imagenet\",\n",
        "        in_channels=3,\n",
        "        classes=3\n",
        "    ).to(device)\n",
        "\n",
        "    optimizer = torch.optim.Adam(model.parameters(), lr=0.001)\n",
        "    loss_func = nn.MSELoss()\n",
        "\n",
        "\n",
        "    train_loss, val_loss = run(model, train_loader, val_loader, optimizer, loss_func, n_epochs)\n",
        "    show(n_epochs, train_loss, val_loss, \"plot.png\")\n",
        "\n",
        "    test_loss = test(model, test_loader, loss_func)\n",
        "    print(f\"Test Loss: {test_loss:.4f}\")"
      ],
      "metadata": {
        "colab": {
          "base_uri": "https://localhost:8080/",
          "height": 1000
        },
        "id": "okojW5EDywwZ",
        "outputId": "d0c535a1-7334-4dd3-c20b-386ee8bd4163"
      },
      "execution_count": 8,
      "outputs": [
        {
          "output_type": "stream",
          "name": "stderr",
          "text": [
            "Downloading: \"https://download.pytorch.org/models/resnet34-333f7ec4.pth\" to /root/.cache/torch/hub/checkpoints/resnet34-333f7ec4.pth\n",
            "100%|██████████| 83.3M/83.3M [00:00<00:00, 146MB/s]\n"
          ]
        },
        {
          "output_type": "stream",
          "name": "stdout",
          "text": [
            "Epoch 1/10\n"
          ]
        },
        {
          "output_type": "stream",
          "name": "stderr",
          "text": [
            "Training: 100%|██████████| 30/30 [00:54<00:00,  1.81s/it]\n",
            "Validation: 100%|██████████| 7/7 [00:03<00:00,  2.07it/s]\n"
          ]
        },
        {
          "output_type": "stream",
          "name": "stdout",
          "text": [
            "Train Loss: 0.2276, Val Loss: 1.6378\n",
            "Epoch 2/10\n"
          ]
        },
        {
          "output_type": "stream",
          "name": "stderr",
          "text": [
            "Training: 100%|██████████| 30/30 [00:54<00:00,  1.82s/it]\n",
            "Validation: 100%|██████████| 7/7 [00:03<00:00,  2.17it/s]\n"
          ]
        },
        {
          "output_type": "stream",
          "name": "stdout",
          "text": [
            "Train Loss: 0.1247, Val Loss: 0.1182\n",
            "Epoch 3/10\n"
          ]
        },
        {
          "output_type": "stream",
          "name": "stderr",
          "text": [
            "Training: 100%|██████████| 30/30 [00:50<00:00,  1.69s/it]\n",
            "Validation: 100%|██████████| 7/7 [00:03<00:00,  2.32it/s]\n"
          ]
        },
        {
          "output_type": "stream",
          "name": "stdout",
          "text": [
            "Train Loss: 0.1143, Val Loss: 0.1178\n",
            "Epoch 4/10\n"
          ]
        },
        {
          "output_type": "stream",
          "name": "stderr",
          "text": [
            "Training: 100%|██████████| 30/30 [00:50<00:00,  1.68s/it]\n",
            "Validation: 100%|██████████| 7/7 [00:03<00:00,  2.29it/s]\n"
          ]
        },
        {
          "output_type": "stream",
          "name": "stdout",
          "text": [
            "Train Loss: 0.1144, Val Loss: 0.1076\n",
            "Epoch 5/10\n"
          ]
        },
        {
          "output_type": "stream",
          "name": "stderr",
          "text": [
            "Training: 100%|██████████| 30/30 [00:54<00:00,  1.81s/it]\n",
            "Validation: 100%|██████████| 7/7 [00:03<00:00,  2.27it/s]\n"
          ]
        },
        {
          "output_type": "stream",
          "name": "stdout",
          "text": [
            "Train Loss: 0.1116, Val Loss: 0.1130\n",
            "Epoch 6/10\n"
          ]
        },
        {
          "output_type": "stream",
          "name": "stderr",
          "text": [
            "Training: 100%|██████████| 30/30 [00:52<00:00,  1.76s/it]\n",
            "Validation: 100%|██████████| 7/7 [00:03<00:00,  2.02it/s]\n"
          ]
        },
        {
          "output_type": "stream",
          "name": "stdout",
          "text": [
            "Train Loss: 0.1151, Val Loss: 0.1190\n",
            "Epoch 7/10\n"
          ]
        },
        {
          "output_type": "stream",
          "name": "stderr",
          "text": [
            "Training: 100%|██████████| 30/30 [00:49<00:00,  1.67s/it]\n",
            "Validation: 100%|██████████| 7/7 [00:03<00:00,  2.07it/s]\n"
          ]
        },
        {
          "output_type": "stream",
          "name": "stdout",
          "text": [
            "Train Loss: 0.1105, Val Loss: 0.1285\n",
            "Epoch 8/10\n"
          ]
        },
        {
          "output_type": "stream",
          "name": "stderr",
          "text": [
            "Training: 100%|██████████| 30/30 [00:49<00:00,  1.64s/it]\n",
            "Validation: 100%|██████████| 7/7 [00:03<00:00,  2.32it/s]\n"
          ]
        },
        {
          "output_type": "stream",
          "name": "stdout",
          "text": [
            "Train Loss: 0.1075, Val Loss: 0.1090\n",
            "Epoch 9/10\n"
          ]
        },
        {
          "output_type": "stream",
          "name": "stderr",
          "text": [
            "Training: 100%|██████████| 30/30 [00:51<00:00,  1.72s/it]\n",
            "Validation: 100%|██████████| 7/7 [00:03<00:00,  2.17it/s]\n"
          ]
        },
        {
          "output_type": "stream",
          "name": "stdout",
          "text": [
            "Train Loss: 0.1064, Val Loss: 0.1278\n",
            "Epoch 10/10\n"
          ]
        },
        {
          "output_type": "stream",
          "name": "stderr",
          "text": [
            "Training: 100%|██████████| 30/30 [00:51<00:00,  1.72s/it]\n",
            "Validation: 100%|██████████| 7/7 [00:03<00:00,  2.01it/s]\n"
          ]
        },
        {
          "output_type": "stream",
          "name": "stdout",
          "text": [
            "Train Loss: 0.1075, Val Loss: 0.1337\n"
          ]
        },
        {
          "output_type": "display_data",
          "data": {
            "text/plain": [
              "<Figure size 640x480 with 1 Axes>"
            ],
            "image/png": "[encoded data removed]"
          },
          "metadata": {}
        },
        {
          "output_type": "stream",
          "name": "stderr",
          "text": [
            "Testing: 100%|██████████| 7/7 [00:03<00:00,  1.88it/s]"
          ]
        },
        {
          "output_type": "stream",
          "name": "stdout",
          "text": [
            "Test Loss: 0.1553\n"
          ]
        },
        {
          "output_type": "stream",
          "name": "stderr",
          "text": [
            "\n"
          ]
        }
      ]
    },
    {
      "cell_type": "code",
      "source": [
        "!pip install segmentation_models_pytorch\n"
      ],
      "metadata": {
        "colab": {
          "base_uri": "https://localhost:8080/"
        },
        "id": "nP23vhpJy3k-",
        "outputId": "c7a7f69e-0f7b-4a1d-b7be-c6f94455f877"
      },
      "execution_count": 7,
      "outputs": [
        {
          "output_type": "stream",
          "name": "stdout",
          "text": [
            "Collecting segmentation_models_pytorch\n",
            "  Downloading segmentation_models_pytorch-0.3.4-py3-none-any.whl.metadata (30 kB)\n",
            "Collecting efficientnet-pytorch==0.7.1 (from segmentation_models_pytorch)\n",
            "  Downloading efficientnet_pytorch-0.7.1.tar.gz (21 kB)\n",
            "  Preparing metadata (setup.py) ... \u001b[?25l\u001b[?25hdone\n",
            "Requirement already satisfied: huggingface-hub>=0.24.6 in /usr/local/lib/python3.10/dist-packages (from segmentation_models_pytorch) (0.24.7)\n",
            "Requirement already satisfied: pillow in /usr/local/lib/python3.10/dist-packages (from segmentation_models_pytorch) (10.4.0)\n",
            "Collecting pretrainedmodels==0.7.4 (from segmentation_models_pytorch)\n",
            "  Downloading pretrainedmodels-0.7.4.tar.gz (58 kB)\n",
            "\u001b[2K     \u001b[90m━━━━━━━━━━━━━━━━━━━━━━━━━━━━━━━━━━━━━━━━\u001b[0m \u001b[32m58.8/58.8 kB\u001b[0m \u001b[31m3.8 MB/s\u001b[0m eta \u001b[36m0:00:00\u001b[0m\n",
            "\u001b[?25h  Preparing metadata (setup.py) ... \u001b[?25l\u001b[?25hdone\n",
            "Requirement already satisfied: six in /usr/local/lib/python3.10/dist-packages (from segmentation_models_pytorch) (1.16.0)\n",
            "Collecting timm==0.9.7 (from segmentation_models_pytorch)\n",
            "  Downloading timm-0.9.7-py3-none-any.whl.metadata (58 kB)\n",
            "\u001b[2K     \u001b[90m━━━━━━━━━━━━━━━━━━━━━━━━━━━━━━━━━━━━━━━━\u001b[0m \u001b[32m58.8/58.8 kB\u001b[0m \u001b[31m3.9 MB/s\u001b[0m eta \u001b[36m0:00:00\u001b[0m\n",
            "\u001b[?25hRequirement already satisfied: torchvision>=0.5.0 in /usr/local/lib/python3.10/dist-packages (from segmentation_models_pytorch) (0.20.0+cu121)\n",
            "Requirement already satisfied: tqdm in /usr/local/lib/python3.10/dist-packages (from segmentation_models_pytorch) (4.66.5)\n",
            "Requirement already satisfied: torch in /usr/local/lib/python3.10/dist-packages (from efficientnet-pytorch==0.7.1->segmentation_models_pytorch) (2.5.0+cu121)\n",
            "Collecting munch (from pretrainedmodels==0.7.4->segmentation_models_pytorch)\n",
            "  Downloading munch-4.0.0-py2.py3-none-any.whl.metadata (5.9 kB)\n",
            "Requirement already satisfied: pyyaml in /usr/local/lib/python3.10/dist-packages (from timm==0.9.7->segmentation_models_pytorch) (6.0.2)\n",
            "Requirement already satisfied: safetensors in /usr/local/lib/python3.10/dist-packages (from timm==0.9.7->segmentation_models_pytorch) (0.4.5)\n",
            "Requirement already satisfied: filelock in /usr/local/lib/python3.10/dist-packages (from huggingface-hub>=0.24.6->segmentation_models_pytorch) (3.16.1)\n",
            "Requirement already satisfied: fsspec>=2023.5.0 in /usr/local/lib/python3.10/dist-packages (from huggingface-hub>=0.24.6->segmentation_models_pytorch) (2024.6.1)\n",
            "Requirement already satisfied: packaging>=20.9 in /usr/local/lib/python3.10/dist-packages (from huggingface-hub>=0.24.6->segmentation_models_pytorch) (24.1)\n",
            "Requirement already satisfied: requests in /usr/local/lib/python3.10/dist-packages (from huggingface-hub>=0.24.6->segmentation_models_pytorch) (2.32.3)\n",
            "Requirement already satisfied: typing-extensions>=3.7.4.3 in /usr/local/lib/python3.10/dist-packages (from huggingface-hub>=0.24.6->segmentation_models_pytorch) (4.12.2)\n",
            "Requirement already satisfied: numpy in /usr/local/lib/python3.10/dist-packages (from torchvision>=0.5.0->segmentation_models_pytorch) (1.26.4)\n",
            "Requirement already satisfied: networkx in /usr/local/lib/python3.10/dist-packages (from torch->efficientnet-pytorch==0.7.1->segmentation_models_pytorch) (3.4.2)\n",
            "Requirement already satisfied: jinja2 in /usr/local/lib/python3.10/dist-packages (from torch->efficientnet-pytorch==0.7.1->segmentation_models_pytorch) (3.1.4)\n",
            "Requirement already satisfied: sympy==1.13.1 in /usr/local/lib/python3.10/dist-packages (from torch->efficientnet-pytorch==0.7.1->segmentation_models_pytorch) (1.13.1)\n",
            "Requirement already satisfied: mpmath<1.4,>=1.1.0 in /usr/local/lib/python3.10/dist-packages (from sympy==1.13.1->torch->efficientnet-pytorch==0.7.1->segmentation_models_pytorch) (1.3.0)\n",
            "Requirement already satisfied: charset-normalizer<4,>=2 in /usr/local/lib/python3.10/dist-packages (from requests->huggingface-hub>=0.24.6->segmentation_models_pytorch) (3.4.0)\n",
            "Requirement already satisfied: idna<4,>=2.5 in /usr/local/lib/python3.10/dist-packages (from requests->huggingface-hub>=0.24.6->segmentation_models_pytorch) (3.10)\n",
            "Requirement already satisfied: urllib3<3,>=1.21.1 in /usr/local/lib/python3.10/dist-packages (from requests->huggingface-hub>=0.24.6->segmentation_models_pytorch) (2.2.3)\n",
            "Requirement already satisfied: certifi>=2017.4.17 in /usr/local/lib/python3.10/dist-packages (from requests->huggingface-hub>=0.24.6->segmentation_models_pytorch) (2024.8.30)\n",
            "Requirement already satisfied: MarkupSafe>=2.0 in /usr/local/lib/python3.10/dist-packages (from jinja2->torch->efficientnet-pytorch==0.7.1->segmentation_models_pytorch) (3.0.2)\n",
            "Downloading segmentation_models_pytorch-0.3.4-py3-none-any.whl (109 kB)\n",
            "\u001b[2K   \u001b[90m━━━━━━━━━━━━━━━━━━━━━━━━━━━━━━━━━━━━━━━━\u001b[0m \u001b[32m109.5/109.5 kB\u001b[0m \u001b[31m7.0 MB/s\u001b[0m eta \u001b[36m0:00:00\u001b[0m\n",
            "\u001b[?25hDownloading timm-0.9.7-py3-none-any.whl (2.2 MB)\n",
            "\u001b[2K   \u001b[90m━━━━━━━━━━━━━━━━━━━━━━━━━━━━━━━━━━━━━━━━\u001b[0m \u001b[32m2.2/2.2 MB\u001b[0m \u001b[31m35.0 MB/s\u001b[0m eta \u001b[36m0:00:00\u001b[0m\n",
            "\u001b[?25hDownloading munch-4.0.0-py2.py3-none-any.whl (9.9 kB)\n",
            "Building wheels for collected packages: efficientnet-pytorch, pretrainedmodels\n",
            "  Building wheel for efficientnet-pytorch (setup.py) ... \u001b[?25l\u001b[?25hdone\n",
            "  Created wheel for efficientnet-pytorch: filename=efficientnet_pytorch-0.7.1-py3-none-any.whl size=16424 sha256=118953d3a1b7aae8a3296fc2b5b7714c54362c2fafc06a4aee979437c17f9ea6\n",
            "  Stored in directory: /root/.cache/pip/wheels/03/3f/e9/911b1bc46869644912bda90a56bcf7b960f20b5187feea3baf\n",
            "  Building wheel for pretrainedmodels (setup.py) ... \u001b[?25l\u001b[?25hdone\n",
            "  Created wheel for pretrainedmodels: filename=pretrainedmodels-0.7.4-py3-none-any.whl size=60944 sha256=0076fb5f3c4c1006b81eb19f27a4b69ad25f26c87ffc4df04011336c4838793a\n",
            "  Stored in directory: /root/.cache/pip/wheels/35/cb/a5/8f534c60142835bfc889f9a482e4a67e0b817032d9c6883b64\n",
            "Successfully built efficientnet-pytorch pretrainedmodels\n",
            "Installing collected packages: munch, efficientnet-pytorch, timm, pretrainedmodels, segmentation_models_pytorch\n",
            "  Attempting uninstall: timm\n",
            "    Found existing installation: timm 1.0.11\n",
            "    Uninstalling timm-1.0.11:\n",
            "      Successfully uninstalled timm-1.0.11\n",
            "Successfully installed efficientnet-pytorch-0.7.1 munch-4.0.0 pretrainedmodels-0.7.4 segmentation_models_pytorch-0.3.4 timm-0.9.7\n"
          ]
        }
      ]
    }
  ]
}